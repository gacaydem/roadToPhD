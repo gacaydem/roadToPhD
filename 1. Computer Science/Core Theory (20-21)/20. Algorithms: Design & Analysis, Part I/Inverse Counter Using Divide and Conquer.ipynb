{
 "cells": [
  {
   "cell_type": "markdown",
   "metadata": {},
   "source": [
    "# Count Inverse by Divide and Conquer"
   ]
  },
  {
   "cell_type": "markdown",
   "metadata": {},
   "source": [
    "Trong bài này tôi sẽ thử sử dụng phương pháp DnQ để giải bài toán tìm xung đột như đã nêu ở ví dụ Brute Force. \n",
    "Trước hết ta vẫn khởi tạo mảng cần sắp xếp:"
   ]
  },
  {
   "cell_type": "code",
   "execution_count": 2,
   "metadata": {},
   "outputs": [],
   "source": [
    "arr = [1,3,5,2,4,6]"
   ]
  },
  {
   "cell_type": "markdown",
   "metadata": {},
   "source": [
    "Để DnQ, chúng ta sẽ phải thực hiện đủ 3 nguyên tắc:\n",
    "- Divide: chia thành những mảng nhỏ để đếm sẽ dễ dàng hơn, tuy nhiên bị bỏ qua các xung đột đa mảng.\n",
    "- Conquer: trên một mảng nhỏ, thực hiện đếm xung đột đơn mảng\n",
    "- Merge: lấy tổng tất cả các xung đột đơn mảng và đếm xung đột đa mảng khi ghép, đó là giá trị cần tìm.\n",
    "\n",
    "Có thể thấy, đếm xung đột đơn mảng chỉ có 2 phần tử khá dễ. Cái khó ở đây là đếm xung đột đa mảng.\n",
    "\n",
    "Một trick mà tôi sẽ dùng ở đây đó là đối với 2 mảng đã được sắp xếp, tất cả các phần tử mảng 1 luôn nhỏ hơn bất kỳ phần tử nào của mảng 2, vì vậy số xung đột khi merge 2 mảng là:\n",
    "\n",
    "- Số xung đột = Số phần tử **còn lại** của mảng 1 khi merge\n",
    "\n",
    "Tôi sẽ modify 1 chút thuật toán merge đã sử dụng trong Merge Sort:"
   ]
  },
  {
   "cell_type": "code",
   "execution_count": 111,
   "metadata": {},
   "outputs": [],
   "source": [
    "def merge(array_a,array_b):\n",
    "    i = 0\n",
    "    j = 0\n",
    "    result = []\n",
    "    num_remain = 0\n",
    "    n = len(array_a+array_b)\n",
    "    for k in range(n):\n",
    "        if i >= len(array_a):\n",
    "            for x in array_b[j:]:\n",
    "                result.append(x)\n",
    "            break\n",
    "        if j >= len(array_b):\n",
    "            for y in array_a[i:]:\n",
    "                result.append(y)\n",
    "            break\n",
    "        if array_a[i]<array_b[j]:\n",
    "            result.append(array_a[i])\n",
    "            i+=1\n",
    "        else:\n",
    "            result.append(array_b[j])\n",
    "            j+=1\n",
    "            num_remain+= len(array_a)-i\n",
    "        \n",
    "    return result, num_remain"
   ]
  },
  {
   "cell_type": "markdown",
   "metadata": {},
   "source": [
    "Ở đây để ý tôi đã sửa Merge Sort để thêm bộ đếm số xung đột đa mảng. Về bản chất, mọi xung đột đều là xung đột đa mảng nếu các đơn mảng bị chia nhỏ đến chỉ còn 1 phần tử, vì vậy tôi chỉ cần đếm lên khi xảy ra xung đột đa mảng, và cứ như vậy đệ quy để tính tổng."
   ]
  },
  {
   "cell_type": "raw",
   "metadata": {},
   "source": [
    "else:\n",
    "    result.append(array_b[j])\n",
    "    j+=1\n",
    "    num_remain+= len(array_a)-i+1"
   ]
  },
  {
   "cell_type": "markdown",
   "metadata": {},
   "source": [
    "Thử xem nào..."
   ]
  },
  {
   "cell_type": "code",
   "execution_count": 112,
   "metadata": {},
   "outputs": [
    {
     "data": {
      "text/plain": [
       "([1, 2, 3, 4], 2)"
      ]
     },
     "execution_count": 112,
     "metadata": {},
     "output_type": "execute_result"
    }
   ],
   "source": [
    "merge([1,4],[2,3])"
   ]
  },
  {
   "cell_type": "markdown",
   "metadata": {},
   "source": [
    "Như vậy tôi đã xuất ra được số xung đột đa mảng khi đầu vào là 2 mảng. Việc còn lại khá đơn giản rồi :)"
   ]
  },
  {
   "cell_type": "code",
   "execution_count": 184,
   "metadata": {},
   "outputs": [],
   "source": [
    "def dnqInvCnt(arr):\n",
    "    n = len(arr)\n",
    "    if n<=1:\n",
    "        return arr,0\n",
    "    else:\n",
    "        arr_a = arr[0:n//2]\n",
    "        arr_b = arr[n//2:]\n",
    "        \n",
    "        sort_a,inv_a = dnqInvCnt(arr_a)\n",
    "        sort_b,inv_b = dnqInvCnt(arr_b)\n",
    "        sorted_array, split_inv = merge(sort_a,sort_b)\n",
    "        total_inv = inv_a + inv_b + split_inv\n",
    "\n",
    "    return sorted_array,total_inv"
   ]
  },
  {
   "cell_type": "code",
   "execution_count": 183,
   "metadata": {},
   "outputs": [
    {
     "name": "stdout",
     "output_type": "stream",
     "text": [
      "([1, 2, 3, 4, 5], 6)\n"
     ]
    }
   ],
   "source": [
    "nam = dnqInvCnt([1,5,4,3,2])\n",
    "print(nam)"
   ]
  },
  {
   "cell_type": "markdown",
   "metadata": {},
   "source": [
    "Đến đây tôi kết thúc thuật toán đếm số xung đột trong mảng chưa sắp xếp bằng phương pháp chia để trị (DnQ)."
   ]
  }
 ],
 "metadata": {
  "kernelspec": {
   "display_name": "Python 3",
   "language": "python",
   "name": "python3"
  },
  "language_info": {
   "codemirror_mode": {
    "name": "ipython",
    "version": 3
   },
   "file_extension": ".py",
   "mimetype": "text/x-python",
   "name": "python",
   "nbconvert_exporter": "python",
   "pygments_lexer": "ipython3",
   "version": "3.7.0"
  }
 },
 "nbformat": 4,
 "nbformat_minor": 2
}
