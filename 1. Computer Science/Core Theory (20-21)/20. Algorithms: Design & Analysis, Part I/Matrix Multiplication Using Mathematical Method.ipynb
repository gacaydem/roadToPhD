{
 "cells": [
  {
   "cell_type": "markdown",
   "metadata": {},
   "source": [
    "# Matrix Multiplication using Straightforward method"
   ]
  },
  {
   "cell_type": "markdown",
   "metadata": {},
   "source": [
    "Trong bài này tôi sẽ sử dụng phương pháp tiếp cận đơn giản nhất để tìm ra tích vô hướng của 2 ma trận vuông cùng chiều.\n",
    "\n",
    "Như ta đã biết định nghĩa của ma trận, giả sử:\n",
    "$$ X = \\left[\\begin{array}{cc} a & b \\\\ c & d \\end{array}\\right]$$ và $$ Y = \\left[\\begin{array}{cc} e & f \\\\ g & h \\end{array}\\right]$$ thì $$ Z = X\\cdot Y = \\left[\\begin{array}{cc} ae+bg & af+bh \\\\ ce+dg & cf+dh \\end{array}\\right]$$"
   ]
  },
  {
   "cell_type": "markdown",
   "metadata": {},
   "source": [
    "Theo đúng định nghĩa, chúng ta sẽ sử dụng 2 vòng lặp lồng nhau để nhân vô hướng 2 ma trận. \n",
    "\n",
    "Ma trận mới nhận được cũng có dạng nxn do số chiều hàng của X và số chiều cột của Y cùng là n."
   ]
  },
  {
   "cell_type": "code",
   "execution_count": 19,
   "metadata": {},
   "outputs": [],
   "source": [
    "def matrixMulti(X,Y):\n",
    "    n = len(X)\n",
    "    Z = [[0 for x in range(n)] for y in range(n)]\n",
    "    for i in range(n):\n",
    "        for j in range(n):\n",
    "            for k in range(n):\n",
    "                Z[i][j]+=X[i][k]*Y[k][j]\n",
    "    return Z"
   ]
  },
  {
   "cell_type": "markdown",
   "metadata": {},
   "source": [
    "Thử lại tính đúng đắn của hàm này bằng việc nhân với ma trận đơn vị:"
   ]
  },
  {
   "cell_type": "code",
   "execution_count": 16,
   "metadata": {},
   "outputs": [],
   "source": [
    "X = [[1,0],[0,1]]"
   ]
  },
  {
   "cell_type": "code",
   "execution_count": 17,
   "metadata": {},
   "outputs": [],
   "source": [
    "Y = [[5,6],[7,8]]"
   ]
  },
  {
   "cell_type": "code",
   "execution_count": 18,
   "metadata": {},
   "outputs": [
    {
     "name": "stdout",
     "output_type": "stream",
     "text": [
      "[[5, 6], [7, 8]]\n"
     ]
    }
   ],
   "source": [
    "Z = matrixMulti(X,Y)\n",
    "print(Z)"
   ]
  },
  {
   "cell_type": "markdown",
   "metadata": {},
   "source": [
    "Như vậy với việc sử dụng đúng như công thức toán học, ta có độ phức tạp O(n<sup>3</sup>) cho bài toán nhân ma trận"
   ]
  }
 ],
 "metadata": {
  "kernelspec": {
   "display_name": "Python 3",
   "language": "python",
   "name": "python3"
  },
  "language_info": {
   "codemirror_mode": {
    "name": "ipython",
    "version": 3
   },
   "file_extension": ".py",
   "mimetype": "text/x-python",
   "name": "python",
   "nbconvert_exporter": "python",
   "pygments_lexer": "ipython3",
   "version": "3.7.0"
  }
 },
 "nbformat": 4,
 "nbformat_minor": 2
}
