{
 "cells": [
  {
   "cell_type": "markdown",
   "metadata": {},
   "source": [
    "# Brute Force Inversion Counting"
   ]
  },
  {
   "cell_type": "markdown",
   "metadata": {},
   "source": [
    "Trong bài này tôi sẽ đếm số xung đột trên 1 mảng (số thứ tự nhỏ hơn có giá trị lớn hơn) bằng phương pháp Brute Force, có nghĩa là so sánh từng cặp số trong mảng, và đếm khi có xung đột xảy ra.\n",
    "\n",
    "Xét mảng sau:"
   ]
  },
  {
   "cell_type": "code",
   "execution_count": 5,
   "metadata": {},
   "outputs": [],
   "source": [
    "arr = [1,3,5,2,4,6]"
   ]
  },
  {
   "cell_type": "markdown",
   "metadata": {},
   "source": [
    "Số xung đột trong mảng là 3, bao gồm 3-2, 5-2, 5-4. Trước hết ta sẽ xây dựng hàm BFIC bằng cách sử dụng 2 vòng lặp lồng nhau, so sánh và đếm các xung đột."
   ]
  },
  {
   "cell_type": "code",
   "execution_count": 7,
   "metadata": {},
   "outputs": [],
   "source": [
    "def bInvCount(arr):\n",
    "    n = len(arr)\n",
    "    count = 0\n",
    "    for i in range(n):\n",
    "        for j in range(i+1,n):\n",
    "            if arr[i]>arr[j]:\n",
    "                count+=1\n",
    "    return count"
   ]
  },
  {
   "cell_type": "markdown",
   "metadata": {},
   "source": [
    "Đã xong phần khởi tạo function. Giờ tôi sẽ chạy thử BFIC."
   ]
  },
  {
   "cell_type": "code",
   "execution_count": 8,
   "metadata": {},
   "outputs": [
    {
     "name": "stdout",
     "output_type": "stream",
     "text": [
      "3\n"
     ]
    }
   ],
   "source": [
    "num = bInvCount(arr)\n",
    "print(num)"
   ]
  },
  {
   "cell_type": "markdown",
   "metadata": {},
   "source": [
    "Như vậy kết quả trả về đúng như dự tính. Tôi sẽ thử thêm một mảng khác để chắc chắn."
   ]
  },
  {
   "cell_type": "code",
   "execution_count": 9,
   "metadata": {},
   "outputs": [],
   "source": [
    "arr_bkup = [1,4,65,23,6,4,2]"
   ]
  },
  {
   "cell_type": "markdown",
   "metadata": {},
   "source": [
    "Trong mảng này sẽ bao gồm cả những số giống nhau. Thử xem nào."
   ]
  },
  {
   "cell_type": "code",
   "execution_count": 10,
   "metadata": {},
   "outputs": [
    {
     "name": "stdout",
     "output_type": "stream",
     "text": [
      "11\n"
     ]
    }
   ],
   "source": [
    "num = bInvCount(arr_bkup)\n",
    "print(num)"
   ]
  },
  {
   "cell_type": "markdown",
   "metadata": {},
   "source": [
    "Hmm. Có lẽ tôi sẽ cần in ra tất cả các giá trị xung đột, để dễ hình dung và kiểm tra."
   ]
  },
  {
   "cell_type": "code",
   "execution_count": 11,
   "metadata": {},
   "outputs": [],
   "source": [
    "def bInvCount(arr):\n",
    "    n = len(arr)\n",
    "    count = 0\n",
    "    for i in range(n):\n",
    "        for j in range(i+1,n):\n",
    "            if arr[i]>arr[j]:\n",
    "                count+=1\n",
    "                print(arr[i],arr[j])\n",
    "    return count"
   ]
  },
  {
   "cell_type": "markdown",
   "metadata": {},
   "source": [
    "Lại nào."
   ]
  },
  {
   "cell_type": "code",
   "execution_count": 14,
   "metadata": {},
   "outputs": [
    {
     "name": "stdout",
     "output_type": "stream",
     "text": [
      "Các xung đột trên mảng:\n",
      "4 2\n",
      "65 23\n",
      "65 6\n",
      "65 4\n",
      "65 2\n",
      "23 6\n",
      "23 4\n",
      "23 2\n",
      "6 4\n",
      "6 2\n",
      "4 2\n",
      "Số lần xung đột: 11\n"
     ]
    }
   ],
   "source": [
    "print(\"Các xung đột trên mảng:\")\n",
    "num = bInvCount(arr_bkup)\n",
    "print(\"Số lần xung đột:\",num)"
   ]
  },
  {
   "cell_type": "markdown",
   "metadata": {},
   "source": [
    "Có vẻ ổn hơn rồi đó. Đến đây tôi kết thúc thuật toán Brute Force Inversion Couting. Thuật toán này dễ dàng nhìn thấy có độ phức tạp O(n<sup>2</sup>)."
   ]
  }
 ],
 "metadata": {
  "kernelspec": {
   "display_name": "Python 3",
   "language": "python",
   "name": "python3"
  },
  "language_info": {
   "codemirror_mode": {
    "name": "ipython",
    "version": 3
   },
   "file_extension": ".py",
   "mimetype": "text/x-python",
   "name": "python",
   "nbconvert_exporter": "python",
   "pygments_lexer": "ipython3",
   "version": "3.7.0"
  }
 },
 "nbformat": 4,
 "nbformat_minor": 2
}
