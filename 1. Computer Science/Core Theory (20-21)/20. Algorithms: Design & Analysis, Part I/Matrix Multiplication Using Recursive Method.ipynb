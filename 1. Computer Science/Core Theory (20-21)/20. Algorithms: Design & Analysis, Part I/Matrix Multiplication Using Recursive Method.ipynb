{
 "cells": [
  {
   "cell_type": "markdown",
   "metadata": {},
   "source": [
    "# Matrix Multiplication using Recursion"
   ]
  },
  {
   "cell_type": "markdown",
   "metadata": {},
   "source": [
    "Trong bài này tôi sẽ thử chia nhỏ ma trận vuông thành các ma trận con, dễ dàng sử dụng đệ quy để tính toán.\n",
    "\n",
    "Base case của việc chia này là nhân 2 ma trận vuông kích thước 1x1. Đối với ma trận kích thước lớn hơn, chuyển nó về dạng 1x1 và tính toán.\n",
    "\n",
    "Trước hết tôi sẽ define 1 hàm chuyên để split các ma trận vuông kích thước 2 mũ thành 4 ma trận con."
   ]
  },
  {
   "cell_type": "code",
   "execution_count": 8,
   "metadata": {},
   "outputs": [],
   "source": [
    "def split2pwrMatrix(X):\n",
    "    n = len(X)\n",
    "    A = [[X[i][j] for j in range(n//2)] for i in range(n//2)]\n",
    "    B = [[X[i][j] for j in range(n//2,n)] for i in range(n//2)]\n",
    "    C = [[X[i][j] for j in range(n//2)] for i in range(n//2,n)]\n",
    "    D = [[X[i][j] for j in range(n//2,n)] for i in range(n//2,n)]\n",
    "    return A,B,C,D"
   ]
  },
  {
   "cell_type": "code",
   "execution_count": 9,
   "metadata": {},
   "outputs": [
    {
     "name": "stdout",
     "output_type": "stream",
     "text": [
      "([[1]], [[3]], [[2]], [[4]])\n"
     ]
    }
   ],
   "source": [
    "X = [[1,3],[2,4]]\n",
    "print(split2pwrMatrix(X))"
   ]
  },
  {
   "cell_type": "markdown",
   "metadata": {},
   "source": [
    "Ổn rồi, giờ thì **do the recursion** thôi. Tôi sẽ define thêm 1 hàm cộng ma trận đơn giản nữa để tiện tính toán."
   ]
  },
  {
   "cell_type": "code",
   "execution_count": 27,
   "metadata": {},
   "outputs": [],
   "source": [
    "def matrixSummarize(X,Y):\n",
    "    n = len(X)\n",
    "    Z = [[0 for j in range(n)] for i in range(n)]\n",
    "    for i in range(n):\n",
    "        for j in range(n):\n",
    "            Z[i][j] = X[i][j]+Y[i][j]\n",
    "    return Z"
   ]
  },
  {
   "cell_type": "markdown",
   "metadata": {},
   "source": [
    "Và 1 hàm nữa (vâng, nốt hàm này) để ghép ma trận. Tôi vừa code vừa cảm thấy mình thật ngu xuẩn :("
   ]
  },
  {
   "cell_type": "code",
   "execution_count": 37,
   "metadata": {},
   "outputs": [],
   "source": [
    "def matrixConcanate(X,Y,U,V):\n",
    "    n = len(X)\n",
    "    Z = [[0 for j in range(n*2)] for i in range(n*2)]\n",
    "    for i in range(n):\n",
    "        for j in range(n):\n",
    "            Z[i][j] = X[i][j]\n",
    "    for i in range(n):\n",
    "        for j in range(n,n*2):\n",
    "            Z[i][j] = Y[i][j-n]\n",
    "    for i in range(n,n*2):\n",
    "        for j in range(n):\n",
    "            Z[i][j] = U[i-n][j]\n",
    "    for i in range(n,n*2):\n",
    "        for j in range(n,n*2):\n",
    "            Z[i][j] = V[i-n][j-n]\n",
    "    \n",
    "    return Z"
   ]
  },
  {
   "cell_type": "markdown",
   "metadata": {},
   "source": [
    "Ổn rồi. Đúng như đã hứa, tôi sẽ bắt đầu recursion ***ngay*** sau đây:"
   ]
  },
  {
   "cell_type": "code",
   "execution_count": 39,
   "metadata": {},
   "outputs": [],
   "source": [
    "def recMatrixMulti(X,Y):\n",
    "    n = len(X)\n",
    "    Z = [[0 for j in range(n)] for i in range(n)]\n",
    "    if n<2:\n",
    "        return [[X[0][0]*Y[0][0]]]\n",
    "    else:\n",
    "        A,B,C,D = split2pwrMatrix(X)\n",
    "        E,F,G,H = split2pwrMatrix(Y)\n",
    "        AE = recMatrixMulti(A,E)\n",
    "        BG = recMatrixMulti(B,G)\n",
    "        AF = recMatrixMulti(A,F)\n",
    "        BH = recMatrixMulti(B,H)\n",
    "        CE = recMatrixMulti(C,E)\n",
    "        DG = recMatrixMulti(D,G)\n",
    "        CF = recMatrixMulti(C,F)\n",
    "        DH = recMatrixMulti(D,H)\n",
    "        \n",
    "        Z1 = matrixSummarize(AE,BG)\n",
    "        Z2 = matrixSummarize(AF,BH)\n",
    "        Z3 = matrixSummarize(CE,DG)\n",
    "        Z4 = matrixSummarize(CF,DH)\n",
    "        matrix = matrixConcanate(Z1,Z2,Z3,Z4)\n",
    "        \n",
    "    return matrix"
   ]
  },
  {
   "cell_type": "markdown",
   "metadata": {},
   "source": [
    "Phew, đã xong công trình thế kỷ. Lạy chúa, cám ơn người đã ban numpy đến với python.\n",
    "\n",
    "Xàm một chút vậy thôi, giờ ta tận hưởng thành quả nào."
   ]
  },
  {
   "cell_type": "code",
   "execution_count": 42,
   "metadata": {},
   "outputs": [
    {
     "name": "stdout",
     "output_type": "stream",
     "text": [
      "[[5, 6, 7, 8], [6, 7, 8, 9], [7, 8, 9, 10], [8, 9, 10, 11]]\n"
     ]
    }
   ],
   "source": [
    "X = [[1,0,0,0],[0,1,0,0],[0,0,1,0],[0,0,0,1]]\n",
    "Y = [[5,6,7,8],[6,7,8,9],[7,8,9,10],[8,9,10,11]]\n",
    "\n",
    "print(recMatrixMulti(X,Y))"
   ]
  },
  {
   "cell_type": "markdown",
   "metadata": {},
   "source": [
    "Well, vậy ko còn gì tốt hơn để nói nữa rồi. Tôi đã hoàn thành việc nhân ma trận sử dụng đệ quy. Chủ yếu lâu la do phải def riêng từng hàm cộng ma trận và merge các ma trận lại, còn lại thuật toán cũng không có gì, chia 4 rồi chia 4. Độ phức tạp của thuật toán này cũng là O(n<sup>3</sup>) (tôi sẽ giải thích cách tính sau)\n",
    "\n",
    "Ở bài sau, tôi sẽ giới thiệu thuật toán Strassen, thuật toán tốt nhất sử dụng để nhân 2 ma trận vuông cùng chiều."
   ]
  },
  {
   "cell_type": "code",
   "execution_count": null,
   "metadata": {},
   "outputs": [],
   "source": []
  }
 ],
 "metadata": {
  "kernelspec": {
   "display_name": "Python 3",
   "language": "python",
   "name": "python3"
  },
  "language_info": {
   "codemirror_mode": {
    "name": "ipython",
    "version": 3
   },
   "file_extension": ".py",
   "mimetype": "text/x-python",
   "name": "python",
   "nbconvert_exporter": "python",
   "pygments_lexer": "ipython3",
   "version": "3.7.0"
  }
 },
 "nbformat": 4,
 "nbformat_minor": 2
}
